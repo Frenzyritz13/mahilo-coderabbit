{
 "cells": [
  {
   "cell_type": "markdown",
   "metadata": {},
   "source": [
    "# Building Multi-Agent AI Systems: From Concept to Implementation\n",
    "\n",
    "## Introduction\n",
    "\n",
    "AI systems are becoming increasingly complex, tackling problems that require multiple\n",
    "specialized capabilities working in concert. In this tutorial, we'll build a multi-agent\n",
    "system where specialized AI agents collaborate to accomplish complex tasks.\n",
    "\n",
    "We'll explore:\n",
    "1. Why multi-agent architectures are valuable\n",
    "2. The challenges of building multi-agent systems\n",
    "3. How to implement a multi-agent system using mahilo\n",
    "4. Building a real-world multi-agent system step-by-step"
   ]
  },
  {
   "cell_type": "markdown",
   "metadata": {},
   "source": [
    "## Why Multi Agent Systems?\n",
    "\n",
    "\n",
    "\n",
    "Multi-agent systems offer several key advantages:\n",
    "\n",
    "1. **Specialization**: Different agents can focus on specific tasks, leading to better\n",
    "   performance in each domain - just like specialists in a team.\n",
    "\n",
    "   ![](https://miro.medium.com/v2/resize:fit:640/format:webp/0*zf7GL-Dz8JAOB7tf.gif)\n",
    "\n",
    "2. **Task Decomposition**: Complex problems become manageable when broken down into\n",
    "   smaller sub-problems assigned to specialized agents.\n",
    "\n",
    "3. **Parallel Processing**: Multiple agents can work simultaneously on different aspects\n",
    "   of a problem, increasing efficiency.\n",
    "\n",
    "4. **Better Accuracy**: Increasing the size of the toolset for a given agent leads to a dip in accuracy as shown by the ReWOO paper.\n",
    "\n",
    "   ![](https://miro.medium.com/v2/resize:fit:640/format:webp/1*GvD5uvHY0mOPrmpp9Oh6-A.png)"
   ]
  },
  {
   "cell_type": "markdown",
   "metadata": {},
   "source": [
    "## The Challenges of Building Multi-Agent Systems\n",
    "\n",
    "Despite their benefits, building effective multi-agent systems presents challenges:\n",
    "\n",
    "### 1. Communication Complexity\n",
    "\n",
    "Enabling effective communication between agents requires:\n",
    "\n",
    "- Designing protocols for agents to request information from each other\n",
    "- Ensuring messages contain appropriate context\n",
    "- Tracking conversations and maintaining state across interactions\n",
    "- Preventing infinite loops and circular references\n",
    "\n",
    "### 2. Observability Challenges\n",
    "\n",
    "As your agent system grows, understanding what's happening becomes difficult:\n",
    "\n",
    "- Tracing requests across multiple agents\n",
    "- Identifying which agent might be causing issues\n",
    "- Collecting metrics on agent performance\n",
    "- Debugging failures in a distributed system\n",
    "\n",
    "### 3. Human-in-the-Loop Complexity\n",
    "\n",
    "Integrating human oversight adds another layer of complexity:\n",
    "\n",
    "- Creating interfaces for humans to monitor agent activities\n",
    "- Designing effective handoff protocols between AI and humans\n",
    "- Determining when to escalate decisions to human operators"
   ]
  },
  {
   "cell_type": "markdown",
   "metadata": {},
   "source": [
    "## mahilo: A Lightweight Control Plane for Multi-Agent Systems\n",
    "\n",
    "Mahilo is a framework designed to address these challenges while remaining lightweight\n",
    "and flexible. To understand how mahilo works, let's start by building a simple multi-agent system.\n",
    "\n",
    "We'll create a team of two agents:\n",
    "\n",
    "1. A **Research Agent** that can find information\n",
    "2. A **Writing Agent** that can create content based on that information\n",
    "\n",
    "First, let's define our research agent. The process for the Writing Agent will be similar and we will not show it for brevity."
   ]
  },
  {
   "cell_type": "markdown",
   "metadata": {},
   "source": [
    "### Setup\n",
    "Before, we begin, let's install the mahilo package."
   ]
  },
  {
   "cell_type": "code",
   "execution_count": null,
   "metadata": {},
   "outputs": [],
   "source": [
    "!pip install mahilo"
   ]
  },
  {
   "cell_type": "markdown",
   "metadata": {},
   "source": [
    "Add an OpenAI API key to the environment variables."
   ]
  },
  {
   "cell_type": "code",
   "execution_count": 1,
   "metadata": {},
   "outputs": [],
   "source": [
    "import getpass\n",
    "import os\n",
    "\n",
    "os.environ[\"OPENAI_API_KEY\"] = getpass.getpass(\"Enter your OpenAI API key: \")"
   ]
  },
  {
   "cell_type": "markdown",
   "metadata": {},
   "source": [
    "### Defining the tools and prompt for the research agent"
   ]
  },
  {
   "cell_type": "code",
   "execution_count": 2,
   "metadata": {},
   "outputs": [],
   "source": [
    "from mahilo import BaseAgent, AgentManager, ServerManager"
   ]
  },
  {
   "cell_type": "code",
   "execution_count": 6,
   "metadata": {},
   "outputs": [],
   "source": [
    "def simple_search(query) -> str:\n",
    "    \"\"\"\n",
    "    A simple mock search function for demonstration purposes.\n",
    "    In a real application, this would connect to a search API.\n",
    "    \"\"\"\n",
    "    if \"python\" in query.lower():\n",
    "        return \"Python is a high-level, interpreted programming language known for its readability.\"\n",
    "    elif \"javascript\" in query.lower():\n",
    "        return \"JavaScript is a scripting language primarily used for web development.\"\n",
    "    else:\n",
    "        return f\"Here are some facts about {query}...\"\n",
    "\n",
    "# Define the research agent's tools\n",
    "research_tools = [\n",
    "    {\n",
    "        \"tool\": {\n",
    "            \"type\": \"function\",\n",
    "            \"function\": {\n",
    "                \"name\": \"search\",\n",
    "                \"description\": \"Search for information on a topic\",\n",
    "                \"parameters\": {\n",
    "                    \"type\": \"object\",\n",
    "                    \"properties\": {\n",
    "                        \"query\": {\n",
    "                            \"type\": \"string\",\n",
    "                            \"description\": \"The search query\"\n",
    "                        }\n",
    "                    },\n",
    "                    \"required\": [\"query\"]\n",
    "                }\n",
    "            }\n",
    "        },\n",
    "        \"function\": simple_search,\n",
    "    }\n",
    "]\n",
    "\n",
    "# Define the research agent's prompt\n",
    "research_agent_prompt = \"\"\"\n",
    "You are a research agent that finds information on topics.\n",
    "When asked about a topic, use your search tool to find relevant information.\n",
    "Be concise and factual in your responses.\n",
    "\"\"\"\n",
    "\n",
    "# Then, a concise description that helps other agents understand its role\n",
    "research_agent_short_description = \"\"\"\n",
    "Research agent that can search for information on various topics\n",
    "\"\"\""
   ]
  },
  {
   "cell_type": "markdown",
   "metadata": {},
   "source": [
    "### Now, let's create our agents and set up the system:"
   ]
  },
  {
   "cell_type": "code",
   "execution_count": 7,
   "metadata": {},
   "outputs": [],
   "source": [
    "def setup_simple_system() -> ServerManager:\n",
    "    # Create the agents\n",
    "    research_agent = BaseAgent(\n",
    "        name=\"ResearchAgent\",\n",
    "        type=\"research_agent\",\n",
    "        description=research_agent_prompt,\n",
    "        short_description=research_agent_short_description,\n",
    "        tools=research_tools,\n",
    "    )\n",
    "    \n",
    "    writing_agent = BaseAgent(\n",
    "        name=\"WritingAgent\",\n",
    "        type=\"writing_agent\",\n",
    "        description=\"You are a writing agent\",\n",
    "        short_description=\"A writing agent\",\n",
    "        tools=[],\n",
    "        can_contact=[\"research_agent\"]  # Specify which agents this agent can contact\n",
    "    )\n",
    "    \n",
    "    # Create an agent manager to manage our team\n",
    "    team = AgentManager()\n",
    "    \n",
    "    # Register the agents with the manager\n",
    "    team.register_agent(research_agent)\n",
    "    team.register_agent(writing_agent)\n",
    "    \n",
    "    # Activate the agents\n",
    "    research_agent.activate()\n",
    "    writing_agent.activate()\n",
    "    \n",
    "    # Create a server manager to handle agent communication\n",
    "    server = ServerManager(team)\n",
    "    \n",
    "    return server"
   ]
  },
  {
   "cell_type": "code",
   "execution_count": null,
   "metadata": {},
   "outputs": [],
   "source": [
    "import asyncio\n",
    "import nest_asyncio\n",
    "\n",
    "server = setup_simple_system()\n",
    "\n",
    "# run the server\n",
    "nest_asyncio.apply()\n",
    "asyncio.run(server.run())"
   ]
  },
  {
   "cell_type": "markdown",
   "metadata": {},
   "source": [
    "You can now connect to the server using the mahilo CLI in your terminal.This will open a chat where you can talk to the research agent about your task. The agent can then process your request and reach out to the writing agent as needed to complete the task.\n",
    "\n",
    "```bash\n",
    "mahilo connect --agent-name ResearchAgent\n",
    "```"
   ]
  },
  {
   "cell_type": "markdown",
   "metadata": {},
   "source": [
    "What's important to notice here\n",
    "1. **Automatic Communication**: The writing agent can automatically communicate with the\n",
    "   research agent thanks to mahilo's communication layer.\n",
    "\n",
    "2. **Clear Separation of Concerns**: Each agent has a specific role and set of capabilities,\n",
    "   making the system modular and maintainable.\n",
    "\n",
    "3. **Simple Setup**: Despite being a multi-agent system, the setup code is straightforward\n",
    "   and easy to understand.\n",
    "\n",
    "4. **Minimal Boilerplate**: Mahilo handles all the communication infrastructure, so we can\n",
    "   focus on defining the agents' capabilities and behavior.\n",
    "\n",
    "In a real application, the server would be running, and you'd interact with it through API\n",
    "calls or a web interface. Each agent would have more sophisticated tools, and the communication\n",
    "would happen automatically as needed.\n"
   ]
  },
  {
   "cell_type": "markdown",
   "metadata": {},
   "source": [
    "### Built for complex applications\n",
    "\n",
    "In addition to the features above, mahilo boasts other features that make\n",
    "it a powerful tool for building multi-agent systems.\n",
    "\n",
    "1. Built-in Observability\n",
    "\n",
    "    Mahilo provides out-of-the-box metrics, traces (in OpenTelemetry format), and logs of all\n",
    "inter-agent communications, making it easy to understand, debug, and optimize your system.\n",
    "    #  <div style=\"display: flex; flex-direction: row; justify-content: space-between; gap: 10px;\">\n",
    "    #    <img src=\"../../assets/metrics.png\" alt=\"metrics\" style=\"max-width: 48%;\" />\n",
    "    #    <img src=\"../../assets/traces.png\" alt=\"traces\" style=\"max-width: 48%;\" />\n",
    "    #  </div>\n",
    "2. Human-in-the-Loop First\n",
    "\n",
    "    Unlike many frameworks where human oversight is an afterthought, mahilo treats humans as\n",
    "first-class participants. Any agent can have a human counterpart who can monitor, intervene,\n",
    "and guide the agent as needed.\n",
    "\n",
    "3. Framework Agnostic\n",
    "\n",
    "    Mahilo is designed to work with agents from any framework, whether they're built with\n",
    "LangChain, PydanticAI, or custom implementations. This makes it easy to \n",
    "incorporate existing agents or specialized tools into your system."
   ]
  },
  {
   "cell_type": "markdown",
   "metadata": {},
   "source": [
    "Watch a demo of a mahilo system in action:\n",
    "\n",
    "[![](../../assets/mahilo_tut_simple.jpg)](https://x.com/wjayesh/status/1872263352254427458)\n"
   ]
  },
  {
   "cell_type": "markdown",
   "metadata": {},
   "source": [
    "Now that we understand the basics, let's move on to a more complex real-world example:\n",
    "a multi-agent system for filmmaking."
   ]
  },
  {
   "cell_type": "markdown",
   "metadata": {},
   "source": [
    "## The Hitchcock Project: A Multi-Agent Filmmaker\n",
    "\n",
    "Let's examine a more complex example: a multi-agent system for filmmaking\n",
    "that won the first prize in the [ElevenLabs Worldwide Hackathon](https://hackathon.elevenlabs.io/) for the Bengaluru track. This system has multiple agents that work together to output a film in the end. Here, I'll explain the thought process behind building such a system, and how I went about designing and executing it.\n",
    "\n",
    "### Step 1: Planning the System Architecture\n",
    "\n",
    "Before writing any code, it's crucial to plan the overall architecture of your multi-agent system.\n",
    "For our filmmaker project, we started by:\n",
    "\n",
    "1. **Identifying the Core Processes**: Analyzing the filmmaking process to identify distinct stages\n",
    "   that could benefit from specialization\n",
    "\n",
    "2. **Defining Agent Boundaries**: Determining clear responsibilities for each agent to avoid overlap\n",
    "   and ensure clear ownership of tasks\n",
    "\n",
    "3. **Mapping Communication Flows**: Deciding which agents need to communicate with each other\n",
    "   and what information they need to exchange\n",
    "\n",
    "4. **Designing Workflow Sequences**: Establishing the correct order of operations to produce\n",
    "   a coherent final product\n",
    "\n",
    "![hithcock_arch](../../assets/hitchcock_arch.jpg)\n",
    "\n",
    "Our analysis led us to a system with four specialized agents:\n",
    "\n",
    "1. **Script Writer Agent**: Creates the initial movie script based on a prompt\n",
    "2. **Story Boarder Agent**: Breaks down the script into visual scenes and shots\n",
    "3. **Director of Photography (DOP) Agent**: Generates images based on storyboard specifications\n",
    "4. **Audio Agent**: Creates audio content matching the visual scenes\n",
    "\n",
    "This architecture ensures that each stage of film production has a dedicated expert agent,\n",
    "with clear workflows between them.\n",
    "\n",
    "### Step 2: Designing Agent Capabilities\n",
    "\n",
    "For each agent, we needed to:\n",
    "\n",
    "1. **Define Core Competencies**: What specific tasks can this agent perform?\n",
    "2. **Design Appropriate Tools**: What functions should the agent have access to?\n",
    "3. **Craft Effective Prompts**: How should we instruct the agent to use these tools?\n",
    "4. **Establish Communication Protocols**: When and how should this agent interact with others?\n",
    "\n",
    "Let's look at how we designed the Script Writer agent:"
   ]
  },
  {
   "cell_type": "code",
   "execution_count": null,
   "metadata": {},
   "outputs": [],
   "source": [
    "# First, we defined the prompt that establishes the agent's role and behavior\n",
    "script_writer_prompt = \"\"\"\n",
    "You are a creative story writer agent specialized in creating movie scripts. You have access to powerful research tools:\n",
    "\n",
    "1. Web Search and Browsing:\n",
    "   - search_information: Search the internet for information\n",
    "   - visit: Visit and read web pages\n",
    "   - page_up/page_down: Navigate through long content\n",
    "   - find/find_next: Search within pages\n",
    "   - search_archives: Search historical archives\n",
    "\n",
    "2. Text Analysis:\n",
    "   - inspect_file_as_text: Analyze and extract information from text content\n",
    "\n",
    "When given a writing task:\n",
    "1. First research the historical and cultural context of your setting\n",
    "2. Study similar movies and their themes for inspiration\n",
    "3. Use the research to create authentic, well-researched scripts\n",
    "4. Pay special attention to:\n",
    "   - Dialogue matching the era and location\n",
    "   - Historically accurate scene descriptions\n",
    "   - Cultural authenticity\n",
    "   - Period-appropriate details\n",
    "\n",
    "Once you're done with the script generation, inform the story boarder agent to create a storyboard. Always do that, and you can\n",
    "use the chat_with_agent tool for it.\n",
    "\n",
    "Wait for specific requests before taking action. Use your research tools to gather information before writing.\n",
    "\"\"\"\n",
    "\n",
    "# Then, a concise description that helps other agents understand its role\n",
    "script_writer_short_description = \"\"\"\n",
    "Story writer agent for creating movie scripts with deep research capabilities\n",
    "\"\"\""
   ]
  },
  {
   "cell_type": "markdown",
   "metadata": {},
   "source": [
    "Now, we implemented key tools that the agent would need to fulfill its role.\n",
    "\n",
    "> Note: This is a simplified version of the actual implementation"
   ]
  },
  {
   "cell_type": "code",
   "execution_count": null,
   "metadata": {},
   "outputs": [],
   "source": [
    "def get_script_with_research(script_prompt):\n",
    "    \"\"\"\n",
    "    Generate a movie script based on the given prompt with research capabilities.\n",
    "    \n",
    "    Args:\n",
    "        script_prompt (str): Description of the script to generate\n",
    "        \n",
    "    Returns:\n",
    "        str: Generated script text\n",
    "    \"\"\"\n",
    "    # In the real implementation, this would:\n",
    "    # 1. Use a research agent to gather relevant information\n",
    "    # 2. Generate a full script using an LLM\n",
    "    # 3. Save the script to a shared location for other agents to access\n",
    "    # 4. Extract character information for the storyboard agent\n",
    "    \n",
    "    # For demonstration purposes, we'll just return a placeholder\n",
    "    return f\"Generated script based on: {script_prompt}\""
   ]
  },
  {
   "cell_type": "markdown",
   "metadata": {},
   "source": [
    "The next step is to package the tool in mahilo's expected format. This is just the OpenAI tool definition spec with an additional function field."
   ]
  },
  {
   "cell_type": "code",
   "execution_count": null,
   "metadata": {},
   "outputs": [],
   "source": [
    "# Package the tool in mahilo's expected format\n",
    "script_writer_tools = [\n",
    "    {\n",
    "        \"tool\": {\n",
    "            \"type\": \"function\",\n",
    "            \"function\": {\n",
    "                \"name\": \"get_script_with_research\",\n",
    "                \"description\": \"Generate a movie script with research capabilities\",\n",
    "                \"parameters\": {\n",
    "                    \"type\": \"object\",\n",
    "                    \"properties\": {\n",
    "                        \"script_prompt\": {\n",
    "                            \"type\": \"string\",\n",
    "                            \"description\": \"Description of the script to generate (e.g., 'Write a thriller set in 1920s Chicago')\"\n",
    "                        }\n",
    "                    },\n",
    "                    \"required\": [\"script_prompt\"]\n",
    "                }\n",
    "            }\n",
    "        },\n",
    "        \"function\": get_script_with_research,\n",
    "    }\n",
    "]"
   ]
  }
 ],
 "metadata": {
  "kernelspec": {
   "display_name": "multiagent",
   "language": "python",
   "name": "python3"
  },
  "language_info": {
   "codemirror_mode": {
    "name": "ipython",
    "version": 3
   },
   "file_extension": ".py",
   "mimetype": "text/x-python",
   "name": "python",
   "nbconvert_exporter": "python",
   "pygments_lexer": "ipython3",
   "version": "3.11.11"
  }
 },
 "nbformat": 4,
 "nbformat_minor": 2
}
